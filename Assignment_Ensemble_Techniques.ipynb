{
  "nbformat": 4,
  "nbformat_minor": 0,
  "metadata": {
    "colab": {
      "provenance": []
    },
    "kernelspec": {
      "name": "python3",
      "display_name": "Python 3"
    },
    "language_info": {
      "name": "python"
    }
  },
  "cells": [
    {
      "cell_type": "code",
      "execution_count": null,
      "metadata": {
        "id": "1Shp0X_vOL3I"
      },
      "outputs": [],
      "source": []
    },
    {
      "cell_type": "markdown",
      "source": [
        "### 1. **Can we use Bagging for regression problems?**\n",
        "\n",
        "✅ **Yes.**\n",
        "Bagging can be used for regression problems by aggregating predictions using the **average** instead of majority voting (as used in classification).\n",
        "\n",
        "---\n",
        "\n",
        "### 2. **What is the difference between multiple model training and single model training?**\n",
        "\n",
        "**Single model training** uses one algorithm to learn from the data, while **multiple model training** (ensemble) combines predictions from several models to improve accuracy and robustness.\n",
        "\n",
        "---\n",
        "\n",
        "### 3. **Explain the concept of feature randomness in Random Forest.**\n",
        "\n",
        "Random Forest introduces **feature randomness** by selecting a random subset of features at each split, which **reduces correlation between trees** and improves generalization.\n",
        "\n",
        "---\n",
        "\n",
        "### 4. **What is OOB (Out-of-Bag) Score?**\n",
        "\n",
        "OOB score is an internal validation score computed from samples **not included** in the bootstrap sample for a tree. It acts like cross-validation in Bagging and Random Forests.\n",
        "\n",
        "---\n",
        "\n",
        "### 5. **How can you measure the importance of features in a Random Forest model?**\n",
        "\n",
        "By evaluating how much each feature **decreases impurity** (Gini/entropy for classification, MSE for regression) or by **permutation importance** (shuffling features and checking impact on accuracy).\n",
        "\n",
        "---\n",
        "\n",
        "### 6. **Explain the working principle of a Bagging Classifier.**\n",
        "\n",
        "A Bagging Classifier trains **multiple base models (e.g., decision trees)** on **bootstrapped samples** and **aggregates their predictions** (majority vote for classification).\n",
        "\n",
        "---\n",
        "\n",
        "### 7. **How do you evaluate a Bagging Classifier’s performance?**\n",
        "\n",
        "Using metrics like **accuracy, precision, recall, F1-score**, and **cross-validation** or **OOB score** if applicable.\n",
        "\n",
        "---\n",
        "\n",
        "### 8. **How does a Bagging Regressor work?**\n",
        "\n",
        "It works similarly to a Bagging Classifier, but instead of majority voting, it **averages the outputs** of base regressors trained on different bootstrapped samples.\n",
        "\n",
        "---\n",
        "\n",
        "### 9. **What is the main advantage of ensemble techniques?**\n",
        "\n",
        "They **improve performance** (accuracy, robustness, generalization) by **reducing overfitting** and **variance** compared to a single model.\n",
        "\n",
        "---\n",
        "\n",
        "### 10. **What is the main challenge of ensemble methods?**\n",
        "\n",
        "They can be **computationally expensive** and **less interpretable**, especially when combining many complex models.\n",
        "\n",
        "---\n",
        "\n",
        "### 11. **Explain the key idea behind ensemble techniques.**\n",
        "\n",
        "Combine predictions from **multiple weak or diverse models** to form a **stronger and more accurate** model.\n",
        "\n",
        "---\n",
        "\n",
        "### 12. **What is a Random Forest Classifier?**\n",
        "\n",
        "An ensemble of decision trees trained via **bagging** with added **feature randomness**, used for **classification tasks**.\n",
        "\n",
        "---\n",
        "\n",
        "### 13. **What are the main types of ensemble techniques?**\n",
        "\n",
        "* **Bagging** (e.g., Random Forest)\n",
        "* **Boosting** (e.g., AdaBoost, XGBoost)\n",
        "* **Stacking** (combining multiple models with a meta-model)\n",
        "\n",
        "---\n",
        "\n",
        "### 14. **What is ensemble learning in machine learning?**\n",
        "\n",
        "A technique where **multiple models** (learners) are trained and combined to solve the same problem for **better performance**.\n",
        "\n",
        "---\n",
        "\n",
        "### 15. **When should we avoid using ensemble methods?**\n",
        "\n",
        "Avoid when:\n",
        "\n",
        "* **Interpretability is critical**\n",
        "* **Data is small or simple**\n",
        "* **Computational resources are limited**\n",
        "\n",
        "---\n",
        "\n",
        "### 16. **How does Bagging help in reducing overfitting?**\n",
        "\n",
        "By training models on **different bootstrapped samples**, it reduces variance and **avoids overfitting to noise** in the data.\n",
        "\n",
        "---\n",
        "\n",
        "### 17. **Why is Random Forest better than a single Decision Tree?**\n",
        "\n",
        "Because it reduces **overfitting** and improves **accuracy** through **bagging** and **feature randomness**, making it more robust.\n",
        "\n",
        "---\n",
        "\n",
        "### 18. **What is the role of bootstrap sampling in Bagging?**\n",
        "\n",
        "Bootstrap sampling creates **diverse training sets** for each base learner, encouraging **diversity** and **variance reduction**.\n",
        "\n",
        "---\n",
        "\n",
        "### 19. **What are some real-world applications of ensemble techniques?**\n",
        "\n",
        "* Fraud detection\n",
        "* Medical diagnosis\n",
        "* Stock market prediction\n",
        "* Spam detection\n",
        "* Recommender systems\n",
        "\n",
        "---\n",
        "\n",
        "### 20. **What is the difference between Bagging and Boosting?**\n",
        "\n",
        "| Aspect   | Bagging              | Boosting                           |\n",
        "| -------- | -------------------- | ---------------------------------- |\n",
        "| Training | Parallel             | Sequential                         |\n",
        "| Focus    | Reduce variance      | Reduce bias                        |\n",
        "| Data     | Bootstrapped samples | Weighted samples (based on errors) |\n",
        "| Example  | Random Forest        | AdaBoost, XGBoost                  |\n",
        "\n"
      ],
      "metadata": {
        "id": "Oz_MDjbxOU5N"
      }
    },
    {
      "cell_type": "code",
      "source": [
        "# 1. Train a Bagging Classifier using Decision Trees on a sample dataset and print model accuracy\n",
        "from sklearn.ensemble import BaggingClassifier\n",
        "from sklearn.tree import DecisionTreeClassifier\n",
        "from sklearn.datasets import load_iris\n",
        "from sklearn.model_selection import train_test_split\n",
        "from sklearn.metrics import accuracy_score\n",
        "\n",
        "# Load dataset\n",
        "data = load_iris()\n",
        "X, y = data.data, data.target\n",
        "\n",
        "# Split data\n",
        "X_train, X_test, y_train, y_test = train_test_split(X, y, test_size=0.3, random_state=42)\n",
        "\n",
        "# Initialize BaggingClassifier (use 'estimator' instead of 'base_estimator')\n",
        "bagging = BaggingClassifier(estimator=DecisionTreeClassifier(), n_estimators=10, random_state=42)\n",
        "\n",
        "# Train the model\n",
        "bagging.fit(X_train, y_train)\n",
        "\n",
        "# Predict and evaluate\n",
        "y_pred = bagging.predict(X_test)\n",
        "accuracy = accuracy_score(y_test, y_pred)\n",
        "print(\"Bagging Classifier Accuracy:\", accuracy)\n",
        "\n"
      ],
      "metadata": {
        "colab": {
          "base_uri": "https://localhost:8080/"
        },
        "id": "9n2CvNX7O_Nt",
        "outputId": "d2da599b-2e85-415c-8110-c942e34b1184"
      },
      "execution_count": 11,
      "outputs": [
        {
          "output_type": "stream",
          "name": "stdout",
          "text": [
            "Bagging Classifier Accuracy: 1.0\n"
          ]
        }
      ]
    },
    {
      "cell_type": "code",
      "source": [
        "# 2. Train a Bagging Regressor using Decision Trees and evaluate using Mean Squared Error (MSE)\n",
        "\n",
        "from sklearn.ensemble import BaggingRegressor\n",
        "from sklearn.datasets import fetch_california_housing\n",
        "from sklearn.tree import DecisionTreeRegressor\n",
        "from sklearn.metrics import mean_squared_error\n",
        "from sklearn.model_selection import train_test_split\n",
        "\n",
        "# Load California housing dataset\n",
        "data = fetch_california_housing()\n",
        "X, y = data.data, data.target\n",
        "\n",
        "# Split the data\n",
        "X_train, X_test, y_train, y_test = train_test_split(X, y, test_size=0.2, random_state=42)\n",
        "\n",
        "# Train the Bagging Regressor\n",
        "regressor = BaggingRegressor(estimator=DecisionTreeRegressor(), n_estimators=10, random_state=42)\n",
        "regressor.fit(X_train, y_train)\n",
        "\n",
        "# Predict and evaluate\n",
        "y_pred = regressor.predict(X_test)\n",
        "mse = mean_squared_error(y_test, y_pred)\n",
        "print(\"Mean Squared Error (MSE):\", mse)\n"
      ],
      "metadata": {
        "colab": {
          "base_uri": "https://localhost:8080/"
        },
        "id": "8_ZZwFlfPBAg",
        "outputId": "4c6f4ffa-e42a-46b7-9c84-9918574a4350"
      },
      "execution_count": 12,
      "outputs": [
        {
          "output_type": "stream",
          "name": "stdout",
          "text": [
            "Mean Squared Error (MSE): 0.2824242776841025\n"
          ]
        }
      ]
    },
    {
      "cell_type": "code",
      "source": [
        "# 3. Train a Random Forest Classifier on the Breast Cancer dataset and print feature importance scores\n",
        "from sklearn.datasets import load_breast_cancer\n",
        "from sklearn.ensemble import RandomForestClassifier\n",
        "\n",
        "X, y = load_breast_cancer(return_X_y=True)\n",
        "X_train, X_test, y_train, y_test = train_test_split(X, y, random_state=42)\n",
        "\n",
        "rf_clf = RandomForestClassifier(n_estimators=100, random_state=42)\n",
        "rf_clf.fit(X_train, y_train)\n",
        "print(\"Feature Importances:\")\n",
        "print(dict(zip(load_breast_cancer().feature_names, rf_clf.feature_importances_)))\n",
        "\n"
      ],
      "metadata": {
        "colab": {
          "base_uri": "https://localhost:8080/"
        },
        "id": "u0xHeFeJPBC6",
        "outputId": "d8dc9339-60f3-4530-a606-0937943547f2"
      },
      "execution_count": 3,
      "outputs": [
        {
          "output_type": "stream",
          "name": "stdout",
          "text": [
            "Feature Importances:\n",
            "{np.str_('mean radius'): np.float64(0.03971058001589694), np.str_('mean texture'): np.float64(0.01460399238170961), np.str_('mean perimeter'): np.float64(0.05314639159160505), np.str_('mean area'): np.float64(0.04277978484315134), np.str_('mean smoothness'): np.float64(0.008164846943636773), np.str_('mean compactness'): np.float64(0.011401661939305432), np.str_('mean concavity'): np.float64(0.08321459456610805), np.str_('mean concave points'): np.float64(0.09029920167767941), np.str_('mean symmetry'): np.float64(0.004435330908549195), np.str_('mean fractal dimension'): np.float64(0.0044339455657393815), np.str_('radius error'): np.float64(0.019516843091976745), np.str_('texture error'): np.float64(0.004599776446461486), np.str_('perimeter error'): np.float64(0.008682277708670269), np.str_('area error'): np.float64(0.04355077092397454), np.str_('smoothness error'): np.float64(0.0046441491045816855), np.str_('compactness error'): np.float64(0.003654903183809933), np.str_('concavity error'): np.float64(0.0070144165747544505), np.str_('concave points error'): np.float64(0.005047156688958991), np.str_('symmetry error'): np.float64(0.003714108357283573), np.str_('fractal dimension error'): np.float64(0.006582527343550268), np.str_('worst radius'): np.float64(0.0812768560500885), np.str_('worst texture'): np.float64(0.016490142021472087), np.str_('worst perimeter'): np.float64(0.07138827979786617), np.str_('worst area'): np.float64(0.12319231862960989), np.str_('worst smoothness'): np.float64(0.010334808299247957), np.str_('worst compactness'): np.float64(0.01580059484010231), np.str_('worst concavity'): np.float64(0.03174021911587722), np.str_('worst concave points'): np.float64(0.17229520871965895), np.str_('worst symmetry'): np.float64(0.013102660847109537), np.str_('worst fractal dimension'): np.float64(0.00518165182156426)}\n"
          ]
        }
      ]
    },
    {
      "cell_type": "code",
      "source": [
        "# 4. Train a Random Forest Regressor and compare its performance with a single Decision Tree\n",
        "\n",
        "from sklearn.ensemble import RandomForestRegressor\n",
        "from sklearn.tree import DecisionTreeRegressor\n",
        "from sklearn.datasets import fetch_california_housing\n",
        "from sklearn.model_selection import train_test_split\n",
        "from sklearn.metrics import mean_squared_error\n",
        "\n",
        "# Load dataset\n",
        "data = fetch_california_housing()\n",
        "X, y = data.data, data.target\n",
        "\n",
        "# Split data\n",
        "X_train, X_test, y_train, y_test = train_test_split(X, y, test_size=0.2, random_state=42)\n",
        "\n",
        "# Train Random Forest Regressor\n",
        "rf_reg = RandomForestRegressor(n_estimators=100, random_state=42)\n",
        "rf_reg.fit(X_train, y_train)\n",
        "rf_pred = rf_reg.predict(X_test)\n",
        "rf_mse = mean_squared_error(y_test, rf_pred)\n",
        "\n",
        "# Train Decision Tree Regressor\n",
        "dt_reg = DecisionTreeRegressor(random_state=42)\n",
        "dt_reg.fit(X_train, y_train)\n",
        "dt_pred = dt_reg.predict(X_test)\n",
        "dt_mse = mean_squared_error(y_test, dt_pred)\n",
        "\n",
        "# Compare performance\n",
        "print(\"Random Forest MSE:\", rf_mse)\n",
        "print(\"Decision Tree MSE:\", dt_mse)\n"
      ],
      "metadata": {
        "colab": {
          "base_uri": "https://localhost:8080/"
        },
        "id": "5I7nWKrBPBFT",
        "outputId": "2519e3a5-af58-4f1f-e6ca-3cdf411a9f4e"
      },
      "execution_count": 13,
      "outputs": [
        {
          "output_type": "stream",
          "name": "stdout",
          "text": [
            "Random Forest MSE: 0.2553684927247781\n",
            "Decision Tree MSE: 0.495235205629094\n"
          ]
        }
      ]
    },
    {
      "cell_type": "code",
      "source": [
        "# 5. Compute the Out-of-Bag (OOB) Score for a Random Forest Classifier\n",
        "rf_clf_oob = RandomForestClassifier(n_estimators=100, oob_score=True, random_state=42)\n",
        "rf_clf_oob.fit(X_train, y_train)\n",
        "print(\"OOB Score:\", rf_clf_oob.oob_score_)\n",
        "\n"
      ],
      "metadata": {
        "colab": {
          "base_uri": "https://localhost:8080/"
        },
        "id": "AnN4vQuaPBH0",
        "outputId": "6b6893f2-0932-4a69-e4d8-fe67208763fd"
      },
      "execution_count": 5,
      "outputs": [
        {
          "output_type": "stream",
          "name": "stdout",
          "text": [
            "OOB Score: 0.960093896713615\n"
          ]
        }
      ]
    },
    {
      "cell_type": "code",
      "source": [
        "# 6. Train a Bagging Classifier using SVM as a base estimator and print accuracy\n",
        "\n",
        "from sklearn.ensemble import BaggingClassifier\n",
        "from sklearn.svm import SVC\n",
        "from sklearn.datasets import load_iris\n",
        "from sklearn.model_selection import train_test_split\n",
        "from sklearn.metrics import accuracy_score\n",
        "\n",
        "# Load dataset\n",
        "data = load_iris()\n",
        "X, y = data.data, data.target\n",
        "\n",
        "# Train-test split\n",
        "X_train, X_test, y_train, y_test = train_test_split(X, y, test_size=0.2, random_state=42)\n",
        "\n",
        "# Bagging Classifier with SVM\n",
        "bag_svm = BaggingClassifier(estimator=SVC(), n_estimators=10, random_state=42)\n",
        "bag_svm.fit(X_train, y_train)\n",
        "\n",
        "# Predict and evaluate\n",
        "y_pred = bag_svm.predict(X_test)\n",
        "accuracy = accuracy_score(y_test, y_pred)\n",
        "print(\"Bagging SVM Accuracy:\", accuracy)\n"
      ],
      "metadata": {
        "colab": {
          "base_uri": "https://localhost:8080/"
        },
        "id": "a9W8_LIrPBJ_",
        "outputId": "9566b6ae-65f4-4685-9020-846fa429d913"
      },
      "execution_count": 14,
      "outputs": [
        {
          "output_type": "stream",
          "name": "stdout",
          "text": [
            "Bagging SVM Accuracy: 1.0\n"
          ]
        }
      ]
    },
    {
      "cell_type": "code",
      "source": [
        "# 7. Train a Random Forest Classifier with different numbers of trees and compare accuracy\n",
        "for n in [10, 50, 100, 200]:\n",
        "    rf = RandomForestClassifier(n_estimators=n, random_state=42)\n",
        "    rf.fit(X_train, y_train)\n",
        "    acc = accuracy_score(y_test, rf.predict(X_test))\n",
        "    print(f\"Random Forest ({n} trees) Accuracy: {acc:.4f}\")\n",
        "\n"
      ],
      "metadata": {
        "colab": {
          "base_uri": "https://localhost:8080/"
        },
        "id": "ELg3eiahPBMQ",
        "outputId": "ddfbd873-e47c-4b6f-e363-8b5e39683651"
      },
      "execution_count": 7,
      "outputs": [
        {
          "output_type": "stream",
          "name": "stdout",
          "text": [
            "Random Forest (10 trees) Accuracy: 0.9510\n",
            "Random Forest (50 trees) Accuracy: 0.9720\n",
            "Random Forest (100 trees) Accuracy: 0.9650\n",
            "Random Forest (200 trees) Accuracy: 0.9650\n"
          ]
        }
      ]
    },
    {
      "cell_type": "code",
      "source": [
        "# 8. Train a Bagging Classifier using Logistic Regression as a base estimator and print AUC score\n",
        "\n",
        "from sklearn.ensemble import BaggingClassifier\n",
        "from sklearn.linear_model import LogisticRegression\n",
        "from sklearn.datasets import load_breast_cancer\n",
        "from sklearn.model_selection import train_test_split\n",
        "from sklearn.metrics import roc_auc_score\n",
        "from sklearn.preprocessing import StandardScaler\n",
        "from sklearn.pipeline import make_pipeline\n",
        "\n",
        "# Load dataset\n",
        "data = load_breast_cancer()\n",
        "X, y = data.data, data.target\n",
        "\n",
        "# Train-test split\n",
        "X_train, X_test, y_train, y_test = train_test_split(X, y, test_size=0.2, random_state=42)\n",
        "\n",
        "# Create a pipeline that scales data then applies LogisticRegression\n",
        "log_reg = make_pipeline(\n",
        "    StandardScaler(),\n",
        "    LogisticRegression(max_iter=1000, solver='lbfgs')\n",
        ")\n",
        "\n",
        "# Bagging Classifier with Logistic Regression pipeline as base estimator\n",
        "bag_lr = BaggingClassifier(estimator=log_reg, n_estimators=10, random_state=42)\n",
        "bag_lr.fit(X_train, y_train)\n",
        "\n",
        "# Predict probabilities\n",
        "y_prob = bag_lr.predict_proba(X_test)[:, 1]\n",
        "\n",
        "# Compute AUC score\n",
        "auc = roc_auc_score(y_test, y_prob)\n",
        "print(\"Bagging Logistic Regression AUC Score:\", auc)\n",
        "\n"
      ],
      "metadata": {
        "colab": {
          "base_uri": "https://localhost:8080/"
        },
        "id": "kcV8XeYhPBOj",
        "outputId": "8da686e8-bb26-498a-ba61-8b3532df4a22"
      },
      "execution_count": 16,
      "outputs": [
        {
          "output_type": "stream",
          "name": "stdout",
          "text": [
            "Bagging Logistic Regression AUC Score: 0.9963969865705864\n"
          ]
        }
      ]
    },
    {
      "cell_type": "code",
      "source": [
        "# 9. Train a Random Forest Regressor and analyze feature importance scores\n",
        "rf_reg.fit(X_train, y_train)\n",
        "print(\"Random Forest Feature Importances (Regression):\")\n",
        "print(dict(zip(load_breast_cancer().feature_names, rf_reg.feature_importances_)))\n",
        "\n"
      ],
      "metadata": {
        "colab": {
          "base_uri": "https://localhost:8080/"
        },
        "id": "wsrQ2kwNPBQw",
        "outputId": "0a71204f-d53b-489f-f7d1-7db555dfc3d5"
      },
      "execution_count": 9,
      "outputs": [
        {
          "output_type": "stream",
          "name": "stdout",
          "text": [
            "Random Forest Feature Importances (Regression):\n",
            "{np.str_('mean radius'): np.float64(0.00406076673116063), np.str_('mean texture'): np.float64(0.017558955253172023), np.str_('mean perimeter'): np.float64(0.003126592231702005), np.str_('mean area'): np.float64(0.006302034891400069), np.str_('mean smoothness'): np.float64(0.003427316240152944), np.str_('mean compactness'): np.float64(0.0007039767156982574), np.str_('mean concavity'): np.float64(0.001911855734613939), np.str_('mean concave points'): np.float64(0.32097530338003144), np.str_('mean symmetry'): np.float64(0.002012824861374577), np.str_('mean fractal dimension'): np.float64(0.0030370469651002556), np.str_('radius error'): np.float64(0.00725290022081839), np.str_('texture error'): np.float64(0.003165088929321961), np.str_('perimeter error'): np.float64(0.0036185547964471894), np.str_('area error'): np.float64(0.01198089407423093), np.str_('smoothness error'): np.float64(0.004387237854952467), np.str_('compactness error'): np.float64(0.001707674144344446), np.str_('concavity error'): np.float64(0.0049576371972528295), np.str_('concave points error'): np.float64(0.0016460713935392396), np.str_('symmetry error'): np.float64(0.0026110644953653258), np.str_('fractal dimension error'): np.float64(0.0056480865331199614), np.str_('worst radius'): np.float64(0.052226071074465884), np.str_('worst texture'): np.float64(0.0277249622294218), np.str_('worst perimeter'): np.float64(0.13801830947122062), np.str_('worst area'): np.float64(0.08283969256765582), np.str_('worst smoothness'): np.float64(0.0074565932971465375), np.str_('worst compactness'): np.float64(0.0038288894208375886), np.str_('worst concavity'): np.float64(0.01469913169819358), np.str_('worst concave points'): np.float64(0.254204018580428), np.str_('worst symmetry'): np.float64(0.006498466987460205), np.str_('worst fractal dimension'): np.float64(0.0024119820293711314)}\n"
          ]
        }
      ]
    },
    {
      "cell_type": "code",
      "source": [
        "# 10. Train an ensemble model using both Bagging and Random Forest and compare accuracy\n",
        "\n",
        "from sklearn.datasets import load_breast_cancer\n",
        "from sklearn.model_selection import train_test_split\n",
        "from sklearn.ensemble import BaggingClassifier, RandomForestClassifier\n",
        "from sklearn.tree import DecisionTreeClassifier\n",
        "from sklearn.metrics import accuracy_score\n",
        "\n",
        "# Load dataset\n",
        "data = load_breast_cancer()\n",
        "X, y = data.data, data.target\n",
        "\n",
        "# Train-test split\n",
        "X_train, X_test, y_train, y_test = train_test_split(X, y, test_size=0.2, random_state=42)\n",
        "\n",
        "# Define Bagging Classifier with Decision Trees\n",
        "bag_clf = BaggingClassifier(\n",
        "    estimator=DecisionTreeClassifier(),\n",
        "    n_estimators=50,\n",
        "    random_state=42\n",
        ")\n",
        "bag_clf.fit(X_train, y_train)\n",
        "y_pred_bag = bag_clf.predict(X_test)\n",
        "acc_bag = accuracy_score(y_test, y_pred_bag)\n",
        "\n",
        "# Define Random Forest Classifier\n",
        "rf_clf = RandomForestClassifier(\n",
        "    n_estimators=50,\n",
        "    random_state=42\n",
        ")\n",
        "rf_clf.fit(X_train, y_train)\n",
        "y_pred_rf = rf_clf.predict(X_test)\n",
        "acc_rf = accuracy_score(y_test, y_pred_rf)\n",
        "\n",
        "# Compare accuracies\n",
        "print(f\"Bagging Classifier Accuracy: {acc_bag:.4f}\")\n",
        "print(f\"Random Forest Accuracy: {acc_rf:.4f}\")\n"
      ],
      "metadata": {
        "colab": {
          "base_uri": "https://localhost:8080/"
        },
        "id": "A_7S1-y7PBTV",
        "outputId": "293f6076-d9c5-4787-9ef3-5e0e54b8bf2a"
      },
      "execution_count": 17,
      "outputs": [
        {
          "output_type": "stream",
          "name": "stdout",
          "text": [
            "Bagging Classifier Accuracy: 0.9561\n",
            "Random Forest Accuracy: 0.9649\n"
          ]
        }
      ]
    },
    {
      "cell_type": "code",
      "source": [
        "# Train a Random Forest Classifier and tune hyperparameters using GridSearchCV\n",
        "from sklearn.datasets import load_breast_cancer\n",
        "from sklearn.ensemble import RandomForestClassifier\n",
        "from sklearn.model_selection import train_test_split, GridSearchCV\n",
        "from sklearn.metrics import accuracy_score\n",
        "\n",
        "data = load_breast_cancer()\n",
        "X, y = data.data, data.target\n",
        "\n",
        "X_train, X_test, y_train, y_test = train_test_split(X, y, random_state=42, test_size=0.2)\n",
        "\n",
        "rf = RandomForestClassifier(random_state=42)\n",
        "\n",
        "param_grid = {\n",
        "    'n_estimators': [50, 100],\n",
        "    'max_depth': [None, 5, 10],\n",
        "    'max_features': ['sqrt', 'log2', None]  # Removed 'auto'\n",
        "}\n",
        "\n",
        "grid_search = GridSearchCV(rf, param_grid, cv=5, n_jobs=-1)\n",
        "grid_search.fit(X_train, y_train)\n",
        "\n",
        "best_rf = grid_search.best_estimator_\n",
        "\n",
        "y_pred = best_rf.predict(X_test)\n",
        "print(\"Best Hyperparameters:\", grid_search.best_params_)\n",
        "print(\"Test Accuracy:\", accuracy_score(y_test, y_pred))\n"
      ],
      "metadata": {
        "colab": {
          "base_uri": "https://localhost:8080/"
        },
        "id": "97gw1kdtPBVm",
        "outputId": "a6854d40-69b9-44d0-abc4-daf7100d7368"
      },
      "execution_count": 19,
      "outputs": [
        {
          "output_type": "stream",
          "name": "stdout",
          "text": [
            "Best Hyperparameters: {'max_depth': 5, 'max_features': 'sqrt', 'n_estimators': 100}\n",
            "Test Accuracy: 0.9649122807017544\n"
          ]
        }
      ]
    },
    {
      "cell_type": "code",
      "source": [
        "# Train a Bagging Regressor with different numbers of base estimators and compare performance\n",
        "from sklearn.datasets import fetch_california_housing\n",
        "from sklearn.model_selection import train_test_split\n",
        "from sklearn.tree import DecisionTreeRegressor\n",
        "from sklearn.ensemble import BaggingRegressor\n",
        "from sklearn.metrics import mean_squared_error\n",
        "\n",
        "# Load dataset\n",
        "data = fetch_california_housing()\n",
        "X, y = data.data, data.target\n",
        "\n",
        "# Train-test split\n",
        "X_train, X_test, y_train, y_test = train_test_split(X, y, random_state=42, test_size=0.2)\n",
        "\n",
        "estimators_list = [10, 50, 100]\n",
        "\n",
        "for n in estimators_list:\n",
        "    model = BaggingRegressor(estimator=DecisionTreeRegressor(), n_estimators=n, random_state=42)  # 'estimator' instead of 'base_estimator'\n",
        "    model.fit(X_train, y_train)\n",
        "    y_pred = model.predict(X_test)\n",
        "    mse = mean_squared_error(y_test, y_pred)\n",
        "    print(f'BaggingRegressor with {n} estimators, MSE: {mse:.4f}')\n",
        "\n",
        "\n"
      ],
      "metadata": {
        "colab": {
          "base_uri": "https://localhost:8080/"
        },
        "id": "Cyg1O0EUPBX3",
        "outputId": "e52fd52b-4745-4907-a1ec-2705ca74df7d"
      },
      "execution_count": 21,
      "outputs": [
        {
          "output_type": "stream",
          "name": "stdout",
          "text": [
            "BaggingRegressor with 10 estimators, MSE: 0.2824\n",
            "BaggingRegressor with 50 estimators, MSE: 0.2573\n",
            "BaggingRegressor with 100 estimators, MSE: 0.2559\n"
          ]
        }
      ]
    },
    {
      "cell_type": "code",
      "source": [
        "# Train a Random Forest Classifier and analyze misclassified samples\n",
        "\n",
        "from sklearn.datasets import load_breast_cancer\n",
        "from sklearn.ensemble import RandomForestClassifier\n",
        "from sklearn.model_selection import train_test_split\n",
        "from sklearn.metrics import accuracy_score\n",
        "\n",
        "# Load data\n",
        "data = load_breast_cancer()\n",
        "X, y = data.data, data.target\n",
        "\n",
        "# Split data\n",
        "X_train, X_test, y_train, y_test = train_test_split(X, y, random_state=42, test_size=0.2)\n",
        "\n",
        "# Train model\n",
        "rf = RandomForestClassifier(random_state=42)\n",
        "rf.fit(X_train, y_train)\n",
        "\n",
        "# Predictions\n",
        "y_pred = rf.predict(X_test)\n",
        "\n",
        "# Accuracy\n",
        "print(\"Accuracy:\", accuracy_score(y_test, y_pred))\n",
        "\n",
        "# Misclassified samples\n",
        "misclassified = X_test[y_pred != y_test]\n",
        "print(f\"Number of misclassified samples: {misclassified.shape[0]}\")\n"
      ],
      "metadata": {
        "colab": {
          "base_uri": "https://localhost:8080/"
        },
        "id": "Lu8nGrxvPBaS",
        "outputId": "1506b8de-a28d-482e-eb7d-1bcec61ccc2b"
      },
      "execution_count": 22,
      "outputs": [
        {
          "output_type": "stream",
          "name": "stdout",
          "text": [
            "Accuracy: 0.9649122807017544\n",
            "Number of misclassified samples: 4\n"
          ]
        }
      ]
    },
    {
      "cell_type": "code",
      "source": [
        "# Train a Bagging Classifier and compare its performance with a single Decision Tree Classifier\n",
        "from sklearn.datasets import load_breast_cancer\n",
        "from sklearn.model_selection import train_test_split\n",
        "from sklearn.tree import DecisionTreeClassifier\n",
        "from sklearn.ensemble import BaggingClassifier\n",
        "from sklearn.metrics import accuracy_score\n",
        "\n",
        "# Load dataset\n",
        "data = load_breast_cancer()\n",
        "X, y = data.data, data.target\n",
        "\n",
        "# Train-test split\n",
        "X_train, X_test, y_train, y_test = train_test_split(X, y, random_state=42, test_size=0.2)\n",
        "\n",
        "# Single Decision Tree Classifier\n",
        "dt = DecisionTreeClassifier(random_state=42)\n",
        "dt.fit(X_train, y_train)\n",
        "y_pred_dt = dt.predict(X_test)\n",
        "accuracy_dt = accuracy_score(y_test, y_pred_dt)\n",
        "\n",
        "# Bagging Classifier with Decision Trees\n",
        "bag = BaggingClassifier(estimator=DecisionTreeClassifier(), n_estimators=50, random_state=42)  # changed here\n",
        "bag.fit(X_train, y_train)\n",
        "y_pred_bag = bag.predict(X_test)\n",
        "accuracy_bag = accuracy_score(y_test, y_pred_bag)\n",
        "\n",
        "print(f\"Accuracy of Single Decision Tree: {accuracy_dt:.4f}\")\n",
        "print(f\"Accuracy of Bagging Classifier: {accuracy_bag:.4f}\")\n",
        "\n"
      ],
      "metadata": {
        "colab": {
          "base_uri": "https://localhost:8080/"
        },
        "id": "5TR-WmKkPBcz",
        "outputId": "8f977ede-89bf-4cc1-d4a0-98e5e4177659"
      },
      "execution_count": 24,
      "outputs": [
        {
          "output_type": "stream",
          "name": "stdout",
          "text": [
            "Accuracy of Single Decision Tree: 0.9474\n",
            "Accuracy of Bagging Classifier: 0.9561\n"
          ]
        }
      ]
    },
    {
      "cell_type": "code",
      "source": [
        "# Train a Random Forest Classifier and visualize the confusion matrix\n",
        "\n",
        "import matplotlib.pyplot as plt\n",
        "import seaborn as sns\n",
        "from sklearn.datasets import load_breast_cancer\n",
        "from sklearn.ensemble import RandomForestClassifier\n",
        "from sklearn.model_selection import train_test_split\n",
        "from sklearn.metrics import confusion_matrix, accuracy_score\n",
        "\n",
        "# Load data\n",
        "data = load_breast_cancer()\n",
        "X, y = data.data, data.target\n",
        "\n",
        "# Split\n",
        "X_train, X_test, y_train, y_test = train_test_split(X, y, random_state=42, test_size=0.2)\n",
        "\n",
        "# Train model\n",
        "rf = RandomForestClassifier(random_state=42)\n",
        "rf.fit(X_train, y_train)\n",
        "y_pred = rf.predict(X_test)\n",
        "\n",
        "# Accuracy\n",
        "print(\"Accuracy:\", accuracy_score(y_test, y_pred))\n",
        "\n",
        "# Confusion matrix\n",
        "cm = confusion_matrix(y_test, y_pred)\n",
        "\n",
        "# Plot\n",
        "plt.figure(figsize=(6,4))\n",
        "sns.heatmap(cm, annot=True, fmt='d', cmap='Blues')\n",
        "plt.xlabel(\"Predicted\")\n",
        "plt.ylabel(\"Actual\")\n",
        "plt.title(\"Confusion Matrix\")\n",
        "plt.show()\n"
      ],
      "metadata": {
        "colab": {
          "base_uri": "https://localhost:8080/",
          "height": 428
        },
        "id": "NGjl7ru8PBe_",
        "outputId": "73b35fc6-f6ea-4c6f-8c99-dcc3a0ac76c4"
      },
      "execution_count": 25,
      "outputs": [
        {
          "output_type": "stream",
          "name": "stdout",
          "text": [
            "Accuracy: 0.9649122807017544\n"
          ]
        },
        {
          "output_type": "display_data",
          "data": {
            "text/plain": [
              "<Figure size 600x400 with 2 Axes>"
            ],
            "image/png": "[encoded data removed]"
          },
          "metadata": {}
        }
      ]
    },
    {
      "cell_type": "code",
      "source": [
        "# Train a Stacking Classifier using Decision Trees, SVM, and Logistic Regression, and compare accuracy\n",
        "from sklearn.datasets import load_breast_cancer\n",
        "from sklearn.model_selection import train_test_split\n",
        "from sklearn.preprocessing import StandardScaler\n",
        "from sklearn.ensemble import StackingClassifier\n",
        "from sklearn.tree import DecisionTreeClassifier\n",
        "from sklearn.svm import SVC\n",
        "from sklearn.linear_model import LogisticRegression\n",
        "from sklearn.metrics import accuracy_score\n",
        "\n",
        "# Load data\n",
        "data = load_breast_cancer()\n",
        "X, y = data.data, data.target\n",
        "\n",
        "# Split data\n",
        "X_train, X_test, y_train, y_test = train_test_split(X, y, random_state=42, test_size=0.2)\n",
        "\n",
        "# Scale data\n",
        "scaler = StandardScaler()\n",
        "X_train_scaled = scaler.fit_transform(X_train)\n",
        "X_test_scaled = scaler.transform(X_test)\n",
        "\n",
        "# Define base estimators\n",
        "estimators = [\n",
        "    ('dt', DecisionTreeClassifier(random_state=42)),\n",
        "    ('svc', SVC(probability=True, random_state=42))\n",
        "]\n",
        "\n",
        "# Logistic Regression as final estimator with higher max_iter\n",
        "final_estimator = LogisticRegression(max_iter=1000, random_state=42)\n",
        "\n",
        "# Create Stacking Classifier\n",
        "stacking_clf = StackingClassifier(estimators=estimators, final_estimator=final_estimator)\n",
        "\n",
        "# Train\n",
        "stacking_clf.fit(X_train_scaled, y_train)\n",
        "\n",
        "# Predict and evaluate\n",
        "y_pred = stacking_clf.predict(X_test_scaled)\n",
        "accuracy = accuracy_score(y_test, y_pred)\n",
        "\n",
        "print(f\"Stacking Classifier Accuracy: {accuracy:.4f}\")\n",
        "\n"
      ],
      "metadata": {
        "colab": {
          "base_uri": "https://localhost:8080/"
        },
        "id": "L6VYXeA-PBho",
        "outputId": "0862cdf4-93f2-416a-f885-6b3011e2d82a"
      },
      "execution_count": 27,
      "outputs": [
        {
          "output_type": "stream",
          "name": "stdout",
          "text": [
            "Stacking Classifier Accuracy: 0.9737\n"
          ]
        }
      ]
    },
    {
      "cell_type": "code",
      "source": [
        "# Train a Random Forest Classifier and print the top 5 most important features\n",
        "\n",
        "from sklearn.datasets import load_breast_cancer\n",
        "from sklearn.ensemble import RandomForestClassifier\n",
        "from sklearn.model_selection import train_test_split\n",
        "import numpy as np\n",
        "\n",
        "# Load data\n",
        "data = load_breast_cancer()\n",
        "X, y = data.data, data.target\n",
        "feature_names = data.feature_names\n",
        "\n",
        "# Split\n",
        "X_train, X_test, y_train, y_test = train_test_split(X, y, random_state=42, test_size=0.2)\n",
        "\n",
        "# Train model\n",
        "rf = RandomForestClassifier(random_state=42)\n",
        "rf.fit(X_train, y_train)\n",
        "\n",
        "# Feature importances\n",
        "importances = rf.feature_importances_\n",
        "indices = np.argsort(importances)[::-1]\n",
        "\n",
        "print(\"Top 5 Important Features:\")\n",
        "for i in range(5):\n",
        "    print(f\"{feature_names[indices[i]]}: {importances[indices[i]]:.4f}\")\n"
      ],
      "metadata": {
        "colab": {
          "base_uri": "https://localhost:8080/"
        },
        "id": "pQArTYQjPBkL",
        "outputId": "8db61f78-d39c-4034-eb44-69ce318e578c"
      },
      "execution_count": 28,
      "outputs": [
        {
          "output_type": "stream",
          "name": "stdout",
          "text": [
            "Top 5 Important Features:\n",
            "worst area: 0.1539\n",
            "worst concave points: 0.1447\n",
            "mean concave points: 0.1062\n",
            "worst radius: 0.0780\n",
            "mean concavity: 0.0680\n"
          ]
        }
      ]
    },
    {
      "cell_type": "code",
      "source": [
        "# Train a Bagging Classifier and evaluate performance using Precision, Recall, and F1-score\n",
        "\n",
        "from sklearn.datasets import load_breast_cancer\n",
        "from sklearn.ensemble import BaggingClassifier\n",
        "from sklearn.tree import DecisionTreeClassifier\n",
        "from sklearn.model_selection import train_test_split\n",
        "from sklearn.metrics import precision_score, recall_score, f1_score\n",
        "\n",
        "# Load data\n",
        "data = load_breast_cancer()\n",
        "X, y = data.data, data.target\n",
        "\n",
        "# Split\n",
        "X_train, X_test, y_train, y_test = train_test_split(X, y, random_state=42, test_size=0.2)\n",
        "\n",
        "# Train Bagging Classifier\n",
        "bag = BaggingClassifier(estimator=DecisionTreeClassifier(), n_estimators=50, random_state=42)\n",
        "bag.fit(X_train, y_train)\n",
        "y_pred = bag.predict(X_test)\n",
        "\n",
        "# Evaluate\n",
        "print(f\"Precision: {precision_score(y_test, y_pred):.4f}\")\n"
      ],
      "metadata": {
        "colab": {
          "base_uri": "https://localhost:8080/"
        },
        "id": "kwBHpl0GPBmb",
        "outputId": "2c7778a2-426e-4d9f-89ae-f3b84b24b348"
      },
      "execution_count": 30,
      "outputs": [
        {
          "output_type": "stream",
          "name": "stdout",
          "text": [
            "Precision: 0.9583\n"
          ]
        }
      ]
    },
    {
      "cell_type": "code",
      "source": [
        "# Train a Random Forest Classifier and tune hyperparameters using GridSearchCV\n",
        "\n",
        "from sklearn.ensemble import RandomForestClassifier\n",
        "from sklearn.model_selection import GridSearchCV, train_test_split\n",
        "from sklearn.datasets import load_breast_cancer\n",
        "\n",
        "# Load data\n",
        "data = load_breast_cancer()\n",
        "X, y = data.data, data.target\n",
        "X_train, X_test, y_train, y_test = train_test_split(X, y, test_size=0.3, random_state=42)\n",
        "\n",
        "param_grid = {\n",
        "    'n_estimators': [50, 100],\n",
        "    'max_depth': [5, 10, None],\n",
        "    'max_features': ['sqrt', 'log2', None]\n",
        "}\n",
        "rf_clf = RandomForestClassifier(random_state=42)\n",
        "grid_search = GridSearchCV(rf_clf, param_grid, cv=5)\n",
        "grid_search.fit(X_train, y_train)\n",
        "\n",
        "print(\"1. Best RF hyperparameters:\", grid_search.best_params_)\n",
        "print(\"   RF Test Accuracy:\", grid_search.score(X_test, y_test))\n"
      ],
      "metadata": {
        "colab": {
          "base_uri": "https://localhost:8080/"
        },
        "id": "D1EvZ7vGPBo4",
        "outputId": "e9feeead-d1a0-430f-eafc-61df5b727074"
      },
      "execution_count": 31,
      "outputs": [
        {
          "output_type": "stream",
          "name": "stdout",
          "text": [
            "1. Best RF hyperparameters: {'max_depth': 10, 'max_features': 'log2', 'n_estimators': 50}\n",
            "   RF Test Accuracy: 0.9707602339181286\n"
          ]
        }
      ]
    },
    {
      "cell_type": "code",
      "source": [
        "# Train a Bagging Regressor with different numbers of base estimators and compare performance\n",
        "\n",
        "from sklearn.ensemble import BaggingRegressor\n",
        "from sklearn.tree import DecisionTreeRegressor\n",
        "from sklearn.datasets import load_diabetes\n",
        "from sklearn.model_selection import train_test_split\n",
        "from sklearn.metrics import mean_squared_error\n",
        "\n",
        "X_reg, y_reg = load_diabetes(return_X_y=True)\n",
        "X_train_reg, X_test_reg, y_train_reg, y_test_reg = train_test_split(X_reg, y_reg, test_size=0.3, random_state=42)\n",
        "\n",
        "estimators_list = [10, 50, 100]\n",
        "for n in estimators_list:\n",
        "    bag_reg = BaggingRegressor(estimator=DecisionTreeRegressor(), n_estimators=n, random_state=42)\n",
        "    bag_reg.fit(X_train_reg, y_train_reg)\n",
        "    y_pred_reg = bag_reg.predict(X_test_reg)\n",
        "    mse = mean_squared_error(y_test_reg, y_pred_reg)\n",
        "    print(f\"2. BaggingRegressor with {n} estimators MSE: {mse:.4f}\")\n"
      ],
      "metadata": {
        "colab": {
          "base_uri": "https://localhost:8080/"
        },
        "id": "-Xc3ZwBqPBrF",
        "outputId": "90b8deac-af09-4100-f8cf-ac333ed3a43b"
      },
      "execution_count": 32,
      "outputs": [
        {
          "output_type": "stream",
          "name": "stdout",
          "text": [
            "2. BaggingRegressor with 10 estimators MSE: 3237.5265\n",
            "2. BaggingRegressor with 50 estimators MSE: 2987.0074\n",
            "2. BaggingRegressor with 100 estimators MSE: 2908.8062\n"
          ]
        }
      ]
    },
    {
      "cell_type": "code",
      "source": [
        "#Train a Random Forest Classifier and analyze misclassified samples\n",
        "\n",
        "from sklearn.ensemble import RandomForestClassifier\n",
        "import numpy as np\n",
        "\n",
        "rf = RandomForestClassifier(random_state=42, **grid_search.best_params_)\n",
        "rf.fit(X_train, y_train)\n",
        "y_pred_rf = rf.predict(X_test)\n",
        "misclassified_idx = np.where(y_pred_rf != y_test)[0]\n",
        "print(f\"3. Number of misclassified samples: {len(misclassified_idx)}\")\n"
      ],
      "metadata": {
        "colab": {
          "base_uri": "https://localhost:8080/"
        },
        "id": "gTpko7edPBtd",
        "outputId": "5fa7470f-0f8d-4da6-9d2e-7d995dbb8102"
      },
      "execution_count": 33,
      "outputs": [
        {
          "output_type": "stream",
          "name": "stdout",
          "text": [
            "3. Number of misclassified samples: 5\n"
          ]
        }
      ]
    },
    {
      "cell_type": "code",
      "source": [
        "# Train a Bagging Classifier and compare its performance with a single Decision Tree Classifier\n",
        "\n",
        "from sklearn.ensemble import BaggingClassifier\n",
        "from sklearn.tree import DecisionTreeClassifier\n",
        "from sklearn.metrics import accuracy_score\n",
        "\n",
        "dt = DecisionTreeClassifier(random_state=42)\n",
        "bag = BaggingClassifier(estimator=dt, n_estimators=50, random_state=42)\n",
        "\n",
        "dt.fit(X_train, y_train)\n",
        "bag.fit(X_train, y_train)\n",
        "\n",
        "acc_dt = accuracy_score(y_test, dt.predict(X_test))\n",
        "acc_bag = accuracy_score(y_test, bag.predict(X_test))\n",
        "\n",
        "print(f\"4. Decision Tree Accuracy: {acc_dt:.4f}\")\n",
        "print(f\"   Bagging Accuracy: {acc_bag:.4f}\")\n"
      ],
      "metadata": {
        "colab": {
          "base_uri": "https://localhost:8080/"
        },
        "id": "MQOIa89hPBv6",
        "outputId": "ed1bc973-9f62-43e0-985b-6d4f81762d6f"
      },
      "execution_count": 34,
      "outputs": [
        {
          "output_type": "stream",
          "name": "stdout",
          "text": [
            "4. Decision Tree Accuracy: 0.9415\n",
            "   Bagging Accuracy: 0.9591\n"
          ]
        }
      ]
    },
    {
      "cell_type": "code",
      "source": [
        "# Train a Random Forest Classifier and visualize the confusion matrix\n",
        "\n",
        "from sklearn.metrics import ConfusionMatrixDisplay\n",
        "import matplotlib.pyplot as plt\n",
        "\n",
        "ConfusionMatrixDisplay.from_estimator(rf, X_test, y_test)\n",
        "plt.title(\"5. Random Forest Confusion Matrix\")\n",
        "plt.show()\n"
      ],
      "metadata": {
        "colab": {
          "base_uri": "https://localhost:8080/",
          "height": 472
        },
        "id": "ImfMmDiuPByP",
        "outputId": "81874b8d-2f88-4dbb-9e04-497f8ac56096"
      },
      "execution_count": 35,
      "outputs": [
        {
          "output_type": "display_data",
          "data": {
            "text/plain": [
              "<Figure size 640x480 with 2 Axes>"
            ],
            "image/png": "[encoded data removed]"
          },
          "metadata": {}
        }
      ]
    },
    {
      "cell_type": "code",
      "source": [
        "# Train a Stacking Classifier using Decision Trees, SVM, and Logistic Regression, and compare accuracy\n",
        "\n",
        "from sklearn.ensemble import StackingClassifier\n",
        "from sklearn.tree import DecisionTreeClassifier\n",
        "from sklearn.svm import SVC\n",
        "from sklearn.linear_model import LogisticRegression\n",
        "from sklearn.preprocessing import StandardScaler\n",
        "from sklearn.metrics import accuracy_score\n",
        "\n",
        "# Define base estimators\n",
        "estimators = [\n",
        "    ('dt', DecisionTreeClassifier(random_state=42)),\n",
        "    ('svm', SVC(probability=True, random_state=42)),\n",
        "    ('lr', LogisticRegression(max_iter=1000, random_state=42))\n",
        "]\n",
        "\n",
        "# Standardize the data\n",
        "scaler = StandardScaler()\n",
        "X_train_scaled = scaler.fit_transform(X_train)\n",
        "X_test_scaled = scaler.transform(X_test)\n",
        "\n",
        "# Create Stacking Classifier with Logistic Regression as the final estimator\n",
        "stack = StackingClassifier(\n",
        "    estimators=estimators,\n",
        "    final_estimator=LogisticRegression(max_iter=2000, solver='saga'),\n",
        "    cv=5\n",
        ")\n",
        "\n",
        "# Train the model\n",
        "stack.fit(X_train_scaled, y_train)\n",
        "\n",
        "# Evaluate the model\n",
        "acc_stack = accuracy_score(y_test, stack.predict(X_test_scaled))\n",
        "print(f\"Stacking Classifier Accuracy: {acc_stack:.4f}\")\n",
        "\n"
      ],
      "metadata": {
        "colab": {
          "base_uri": "https://localhost:8080/"
        },
        "id": "VUDDKT3tPB0l",
        "outputId": "8285a6e7-3e39-4aaf-b903-f29f7de5af3e"
      },
      "execution_count": 48,
      "outputs": [
        {
          "output_type": "stream",
          "name": "stdout",
          "text": [
            "Stacking Classifier Accuracy: 0.9883\n"
          ]
        }
      ]
    },
    {
      "cell_type": "code",
      "source": [
        "# Train a Random Forest Classifier and print the top 5 most important features\n",
        "\n",
        "import numpy as np\n",
        "\n",
        "importances = rf.feature_importances_\n",
        "indices = np.argsort(importances)[::-1]\n",
        "print(\"7. Top 5 important features:\")\n",
        "for i in range(5):\n",
        "    print(f\"   {data.feature_names[indices[i]]}: {importances[indices[i]]:.4f}\")\n"
      ],
      "metadata": {
        "colab": {
          "base_uri": "https://localhost:8080/"
        },
        "id": "2a7lA98iPB28",
        "outputId": "198adf76-f330-46fa-dc6f-837a58d158a4"
      },
      "execution_count": 37,
      "outputs": [
        {
          "output_type": "stream",
          "name": "stdout",
          "text": [
            "7. Top 5 important features:\n",
            "   worst concave points: 0.1091\n",
            "   mean concave points: 0.1065\n",
            "   mean concavity: 0.1033\n",
            "   worst radius: 0.1014\n",
            "   worst area: 0.0830\n"
          ]
        }
      ]
    },
    {
      "cell_type": "code",
      "source": [
        "# Train a Bagging Classifier and evaluate performance using Precision, Recall, and F1-score\n",
        "\n",
        "from sklearn.ensemble import BaggingClassifier\n",
        "from sklearn.tree import DecisionTreeClassifier\n",
        "from sklearn.metrics import precision_score, recall_score, f1_score\n",
        "\n",
        "bag = BaggingClassifier(estimator=DecisionTreeClassifier(), n_estimators=50, random_state=42)\n",
        "bag.fit(X_train, y_train)\n",
        "y_pred_bag = bag.predict(X_test)\n",
        "\n",
        "print(f\"8. Precision: {precision_score(y_test, y_pred_bag):.4f}\")\n",
        "print(f\"   Recall:    {recall_score(y_test, y_pred_bag):.4f}\")\n",
        "print(f\"   F1-score:  {f1_score(y_test, y_pred_bag):.4f}\")\n"
      ],
      "metadata": {
        "colab": {
          "base_uri": "https://localhost:8080/"
        },
        "id": "aV4L0xvvPB5d",
        "outputId": "b1fce2c5-02b2-4aac-9802-393be409f6c7"
      },
      "execution_count": 38,
      "outputs": [
        {
          "output_type": "stream",
          "name": "stdout",
          "text": [
            "8. Precision: 0.9633\n",
            "   Recall:    0.9722\n",
            "   F1-score:  0.9677\n"
          ]
        }
      ]
    },
    {
      "cell_type": "code",
      "source": [
        "# Train a Random Forest Classifier and analyze the effect of max_depth on accuracy\n",
        "\n",
        "from sklearn.ensemble import RandomForestClassifier\n",
        "from sklearn.metrics import accuracy_score\n",
        "\n",
        "depths = [1, 5, 10, 20, None]\n",
        "for depth in depths:\n",
        "    rf_tmp = RandomForestClassifier(max_depth=depth, random_state=42, n_estimators=100)\n",
        "    rf_tmp.fit(X_train, y_train)\n",
        "    acc = accuracy_score(y_test, rf_tmp.predict(X_test))\n",
        "    print(f\"9. max_depth={depth} -> accuracy: {acc:.4f}\")\n"
      ],
      "metadata": {
        "colab": {
          "base_uri": "https://localhost:8080/"
        },
        "id": "_2wKMXzXPB7_",
        "outputId": "4a3744eb-f3b1-4898-c5bb-bd7bb4f373d0"
      },
      "execution_count": 39,
      "outputs": [
        {
          "output_type": "stream",
          "name": "stdout",
          "text": [
            "9. max_depth=1 -> accuracy: 0.9591\n",
            "9. max_depth=5 -> accuracy: 0.9649\n",
            "9. max_depth=10 -> accuracy: 0.9708\n",
            "9. max_depth=20 -> accuracy: 0.9708\n",
            "9. max_depth=None -> accuracy: 0.9708\n"
          ]
        }
      ]
    },
    {
      "cell_type": "code",
      "source": [
        "# Train a Bagging Regressor using different base estimators (DecisionTree and KNeighbors) and compare performance\n",
        "\n",
        "from sklearn.ensemble import BaggingRegressor\n",
        "from sklearn.tree import DecisionTreeRegressor\n",
        "from sklearn.neighbors import KNeighborsRegressor\n",
        "from sklearn.metrics import mean_squared_error\n",
        "\n",
        "bag_dt = BaggingRegressor(estimator=DecisionTreeRegressor(), n_estimators=50, random_state=42)\n",
        "bag_knn = BaggingRegressor(estimator=KNeighborsRegressor(), n_estimators=50, random_state=42)\n",
        "\n",
        "bag_dt.fit(X_train_reg, y_train_reg)\n",
        "bag_knn.fit(X_train_reg, y_train_reg)\n",
        "\n",
        "mse_dt = mean_squared_error(y_test_reg, bag_dt.predict(X_test_reg))\n",
        "mse_knn = mean_squared_error(y_test_reg, bag_knn.predict(X_test_reg))\n",
        "\n",
        "print(f\"10. BaggingRegressor DecisionTree MSE: {mse_dt:.4f}\")\n",
        "print(f\"    BaggingRegressor KNeighbors MSE: {mse_knn:.4f}\")\n"
      ],
      "metadata": {
        "colab": {
          "base_uri": "https://localhost:8080/"
        },
        "id": "JWh9uHQiPB-h",
        "outputId": "f5d0977c-e467-402f-d696-4969fb77cf78"
      },
      "execution_count": 40,
      "outputs": [
        {
          "output_type": "stream",
          "name": "stdout",
          "text": [
            "10. BaggingRegressor DecisionTree MSE: 2987.0074\n",
            "    BaggingRegressor KNeighbors MSE: 3140.1861\n"
          ]
        }
      ]
    },
    {
      "cell_type": "code",
      "source": [
        "# Train a Random Forest Classifier and evaluate its performance using ROC-AUC Score\n",
        "\n",
        "from sklearn.metrics import roc_auc_score\n",
        "\n",
        "y_prob_rf = rf.predict_proba(X_test)[:, 1]\n",
        "roc_auc = roc_auc_score(y_test, y_prob_rf)\n",
        "print(f\"11. Random Forest ROC-AUC Score: {roc_auc:.4f}\")\n"
      ],
      "metadata": {
        "colab": {
          "base_uri": "https://localhost:8080/"
        },
        "id": "pCNQF4PCPCA8",
        "outputId": "f58dcc02-d5c5-4651-ec3f-ba32dc15e15c"
      },
      "execution_count": 41,
      "outputs": [
        {
          "output_type": "stream",
          "name": "stdout",
          "text": [
            "11. Random Forest ROC-AUC Score: 0.9968\n"
          ]
        }
      ]
    },
    {
      "cell_type": "code",
      "source": [
        "# Train a Bagging Classifier and evaluate its performance using cross-validation\n",
        "\n",
        "from sklearn.model_selection import cross_val_score\n",
        "import numpy as np\n",
        "\n",
        "scores = cross_val_score(bag, X, y, cv=5)\n",
        "print(f\"12. Bagging Classifier Cross-Validation Accuracy: {np.mean(scores):.4f} +/- {np.std(scores):.4f}\")\n"
      ],
      "metadata": {
        "colab": {
          "base_uri": "https://localhost:8080/"
        },
        "id": "00JaNkqtPCDi",
        "outputId": "14feadfd-8839-42dd-febe-ced7d1691814"
      },
      "execution_count": 42,
      "outputs": [
        {
          "output_type": "stream",
          "name": "stdout",
          "text": [
            "12. Bagging Classifier Cross-Validation Accuracy: 0.9544 +/- 0.0339\n"
          ]
        }
      ]
    },
    {
      "cell_type": "code",
      "source": [
        "# Train a Random Forest Classifier and plot the Precision-Recall curve\n",
        "\n",
        "from sklearn.metrics import precision_recall_curve, PrecisionRecallDisplay\n",
        "import matplotlib.pyplot as plt\n",
        "\n",
        "precision, recall, _ = precision_recall_curve(y_test, y_prob_rf)\n",
        "disp = PrecisionRecallDisplay(precision=precision, recall=recall)\n",
        "disp.plot()\n",
        "plt.title(\"13. Random Forest Precision-Recall Curve\")\n",
        "plt.show()\n"
      ],
      "metadata": {
        "colab": {
          "base_uri": "https://localhost:8080/",
          "height": 472
        },
        "id": "e2NC-xsuPCGB",
        "outputId": "3933fafb-c8ec-4335-9213-f3cb473043e7"
      },
      "execution_count": 43,
      "outputs": [
        {
          "output_type": "display_data",
          "data": {
            "text/plain": [
              "<Figure size 640x480 with 1 Axes>"
            ],
            "image/png": "[encoded data removed]"
          },
          "metadata": {}
        }
      ]
    },
    {
      "cell_type": "code",
      "source": [
        "#  Train a Bagging Regressor with different levels of bootstrap samples and compare performance\n",
        "\n",
        "from sklearn.ensemble import BaggingRegressor\n",
        "from sklearn.tree import DecisionTreeRegressor\n",
        "from sklearn.metrics import mean_squared_error\n",
        "\n",
        "bootstrap_sizes = [0.5, 0.7, 1.0]\n",
        "for bs in bootstrap_sizes:\n",
        "    bag_reg = BaggingRegressor(\n",
        "        estimator=DecisionTreeRegressor(),\n",
        "        n_estimators=50,\n",
        "        max_samples=bs,\n",
        "        random_state=42\n",
        "    )\n",
        "    bag_reg.fit(X_train_reg, y_train_reg)\n",
        "    mse = mean_squared_error(y_test_reg, bag_reg.predict(X_test_reg))\n",
        "    print(f\"15. BaggingRegressor with bootstrap size {bs} MSE: {mse:.4f}\")\n",
        "\n"
      ],
      "metadata": {
        "colab": {
          "base_uri": "https://localhost:8080/"
        },
        "id": "psS1pJ0ePCK_",
        "outputId": "635b5ab4-e242-427a-dfdb-e159b6efaf0d"
      },
      "execution_count": 46,
      "outputs": [
        {
          "output_type": "stream",
          "name": "stdout",
          "text": [
            "15. BaggingRegressor with bootstrap size 0.5 MSE: 2826.9423\n",
            "15. BaggingRegressor with bootstrap size 0.7 MSE: 2797.2247\n",
            "15. BaggingRegressor with bootstrap size 1.0 MSE: 2987.0074\n"
          ]
        }
      ]
    }
  ]
}